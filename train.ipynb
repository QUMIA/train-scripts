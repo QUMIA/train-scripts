{
 "cells": [
  {
   "cell_type": "code",
   "execution_count": 1,
   "metadata": {},
   "outputs": [
    {
     "name": "stdout",
     "output_type": "stream",
     "text": [
      "Python version: 3.9.18 (main, Jul  3 2024, 00:00:00) \n",
      "[GCC 11.4.1 20231218 (Red Hat 11.4.1-3)]\n"
     ]
    }
   ],
   "source": [
    "import sys\n",
    "print(\"Python version: \" + sys.version)"
   ]
  },
  {
   "cell_type": "code",
   "execution_count": 2,
   "metadata": {
    "tags": [
     "exclude"
    ]
   },
   "outputs": [],
   "source": [
    "# auto reload modules\n",
    "%load_ext autoreload\n",
    "%autoreload 2"
   ]
  },
  {
   "cell_type": "code",
   "execution_count": 3,
   "metadata": {},
   "outputs": [
    {
     "name": "stderr",
     "output_type": "stream",
     "text": [
      "/home/pkok/.local/lib/python3.9/site-packages/tqdm/auto.py:21: TqdmWarning: IProgress not found. Please update jupyter and ipywidgets. See https://ipywidgets.readthedocs.io/en/stable/user_install.html\n",
      "  from .autonotebook import tqdm as notebook_tqdm\n"
     ]
    }
   ],
   "source": [
    "import os\n",
    "import pandas as pd\n",
    "import copy\n",
    "import matplotlib.pyplot as plt\n",
    "from dotenv import load_dotenv\n",
    "\n",
    "import torch\n",
    "import torch.optim as optim\n",
    "from torch.utils.data import DataLoader, Subset\n",
    "from torchsummary import summary\n",
    "import albumentations as A\n",
    "from albumentations.pytorch import ToTensorV2\n",
    "import wandb\n",
    "\n",
    "from qumia_dataset import QUMIA_Dataset\n",
    "from qumia_model import QUMIA_Model\n",
    "from qumia_core import QUMIA_Trainer, train, validate\n"
   ]
  },
  {
   "cell_type": "code",
   "execution_count": 4,
   "metadata": {},
   "outputs": [
    {
     "name": "stdout",
     "output_type": "stream",
     "text": [
      "source\n"
     ]
    }
   ],
   "source": [
    "# Load environment variables from .env file\n",
    "if load_dotenv():\n",
    "    sessionLabel = os.getenv('SESSION_LABEL')\n",
    "else:\n",
    "    sessionLabel = None\n",
    "print(sessionLabel)"
   ]
  },
  {
   "cell_type": "code",
   "execution_count": 5,
   "metadata": {},
   "outputs": [],
   "source": [
    "def is_running_as_script():\n",
    "    return __name__ == '__main__' and '__file__' in globals()"
   ]
  },
  {
   "cell_type": "code",
   "execution_count": 6,
   "metadata": {},
   "outputs": [],
   "source": [
    "image_size = 448\n",
    "image_channels = 1\n",
    "config={\n",
    "    \"learning_rate\": 0.001,\n",
    "    \"model\": \"QUMIA_Model\",\n",
    "    \"epochs\": 20,\n",
    "    \"image_size\": image_size,\n",
    "    \"image_channels\": image_channels,\n",
    "    \"model_layers\": 5,\n",
    "    \"model_first_out_channels\": 32,\n",
    "    \"model_fully_connected_size\": 256,\n",
    "}"
   ]
  },
  {
   "cell_type": "code",
   "execution_count": 7,
   "metadata": {},
   "outputs": [
    {
     "name": "stderr",
     "output_type": "stream",
     "text": [
      "Failed to detect the name of this notebook, you can set it manually with the WANDB_NOTEBOOK_NAME environment variable to enable code saving.\n",
      "\u001b[34m\u001b[1mwandb\u001b[0m: Currently logged in as: \u001b[33mpeterk\u001b[0m (\u001b[33mqumia\u001b[0m). Use \u001b[1m`wandb login --relogin`\u001b[0m to force relogin\n"
     ]
    },
    {
     "data": {
      "text/html": [
       "wandb version 0.17.0 is available!  To upgrade, please run:\n",
       " $ pip install wandb --upgrade"
      ],
      "text/plain": [
       "<IPython.core.display.HTML object>"
      ]
     },
     "metadata": {},
     "output_type": "display_data"
    },
    {
     "data": {
      "text/html": [
       "Tracking run with wandb version 0.16.0"
      ],
      "text/plain": [
       "<IPython.core.display.HTML object>"
      ]
     },
     "metadata": {},
     "output_type": "display_data"
    },
    {
     "data": {
      "text/html": [
       "Run data is saved locally in <code>/gpfs/work3/0/einf6214/code/train-scripts/wandb/run-20240605_113602-i5791vu2</code>"
      ],
      "text/plain": [
       "<IPython.core.display.HTML object>"
      ]
     },
     "metadata": {},
     "output_type": "display_data"
    },
    {
     "data": {
      "text/html": [
       "Syncing run <strong><a href='https://wandb.ai/qumia/qumia/runs/i5791vu2' target=\"_blank\">source</a></strong> to <a href='https://wandb.ai/qumia/qumia' target=\"_blank\">Weights & Biases</a> (<a href='https://wandb.me/run' target=\"_blank\">docs</a>)<br/>"
      ],
      "text/plain": [
       "<IPython.core.display.HTML object>"
      ]
     },
     "metadata": {},
     "output_type": "display_data"
    },
    {
     "data": {
      "text/html": [
       " View project at <a href='https://wandb.ai/qumia/qumia' target=\"_blank\">https://wandb.ai/qumia/qumia</a>"
      ],
      "text/plain": [
       "<IPython.core.display.HTML object>"
      ]
     },
     "metadata": {},
     "output_type": "display_data"
    },
    {
     "data": {
      "text/html": [
       " View run at <a href='https://wandb.ai/qumia/qumia/runs/i5791vu2' target=\"_blank\">https://wandb.ai/qumia/qumia/runs/i5791vu2</a>"
      ],
      "text/plain": [
       "<IPython.core.display.HTML object>"
      ]
     },
     "metadata": {},
     "output_type": "display_data"
    },
    {
     "data": {
      "text/html": [
       "<button onClick=\"this.nextSibling.style.display='block';this.style.display='none';\">Display W&B run</button><iframe src='https://wandb.ai/qumia/qumia/runs/i5791vu2?jupyter=true' style='border:none;width:100%;height:420px;display:none;'></iframe>"
      ],
      "text/plain": [
       "<wandb.sdk.wandb_run.Run at 0x14844e610820>"
      ]
     },
     "execution_count": 7,
     "metadata": {},
     "output_type": "execute_result"
    }
   ],
   "source": [
    "# start a new wandb run to track this script\n",
    "wandb.init(\n",
    "    project=\"qumia\",\n",
    "    name=sessionLabel,\n",
    "    config=config,\n",
    ")"
   ]
  },
  {
   "cell_type": "code",
   "execution_count": 8,
   "metadata": {},
   "outputs": [],
   "source": [
    "# Data directories\n",
    "data_dir = '/projects/0/einf6214/data'\n",
    "data_dir_images = os.path.join(data_dir, 'masked')\n",
    "\n",
    "# Output dir (relative to code; we assume a dedicated directory with the copied code for each session, see run_session.sh)\n",
    "output_dir = 'output'\n",
    "if not os.path.exists(output_dir):\n",
    "    os.mkdir(output_dir)"
   ]
  },
  {
   "cell_type": "code",
   "execution_count": 9,
   "metadata": {},
   "outputs": [
    {
     "name": "stdout",
     "output_type": "stream",
     "text": [
      "Device: cpu\n"
     ]
    }
   ],
   "source": [
    "device = torch.device(\"cuda\" if torch.cuda.is_available() else \"cpu\")\n",
    "print(\"Device: \" + str(device))"
   ]
  },
  {
   "cell_type": "code",
   "execution_count": 10,
   "metadata": {},
   "outputs": [
    {
     "name": "stdout",
     "output_type": "stream",
     "text": [
      "(54069, 20) (19164, 20) (16361, 20)\n"
     ]
    }
   ],
   "source": [
    "# Read data\n",
    "df_train = pd.read_csv(os.path.join(data_dir, 'split_train.csv'))\n",
    "df_val = pd.read_csv(os.path.join(data_dir, 'split_val.csv'))\n",
    "df_test = pd.read_csv(os.path.join(data_dir, 'split_test.csv'))\n",
    "print(df_train.shape, df_val.shape, df_test.shape)"
   ]
  },
  {
   "cell_type": "code",
   "execution_count": 11,
   "metadata": {},
   "outputs": [],
   "source": [
    "elastic_alpha = 480.0\n",
    "\n",
    "train_transform = A.Compose(\n",
    "    [\n",
    "        #A.HorizontalFlip(p=0.5),\n",
    "        #A.ShiftScaleRotate(shift_limit=0.05, scale_limit=0.05, rotate_limit=10, p=0.7),\n",
    "        A.Resize(image_size, image_size),\n",
    "        #A.ElasticTransform(p=1, alpha=elastic_alpha, sigma=elastic_alpha * 0.07, alpha_affine=elastic_alpha * 0.05),\n",
    "        #A.RandomBrightnessContrast(p=0.5),\n",
    "        A.Normalize(mean=(0.5,), std=(0.225,)),\n",
    "        ToTensorV2(),\n",
    "    ]\n",
    ")\n",
    "\n",
    "evaluation_transform = A.Compose(\n",
    "    [\n",
    "        A.Resize(image_size, image_size),\n",
    "        A.Normalize(mean=(0.5,), std=(0.225,)),\n",
    "        ToTensorV2(),\n",
    "    ]\n",
    ")\n"
   ]
  },
  {
   "cell_type": "code",
   "execution_count": 12,
   "metadata": {},
   "outputs": [],
   "source": [
    "fuse_features = [\"bmi\", \"Age_exam\"]\n",
    "#fuse_features = []\n",
    "use_subset = not is_running_as_script()\n",
    "\n",
    "# Create dataset and dataloader for the train data\n",
    "train_dataset = QUMIA_Dataset(df_train, transform=train_transform, data_dir=data_dir_images, fuse_features=fuse_features)\n",
    "train_subset = Subset(train_dataset, range(100))\n",
    "train_loader = DataLoader(train_subset if use_subset else train_dataset, batch_size=32, shuffle=True, num_workers=8)\n",
    "\n",
    "# Create dataset and dataloader for the validation data (no shuffle)\n",
    "validation_dataset = QUMIA_Dataset(df_val, transform=evaluation_transform, data_dir=data_dir_images, fuse_features=fuse_features)\n",
    "validation_subset = Subset(validation_dataset, range(30))\n",
    "validation_loader = DataLoader(validation_subset if use_subset else validation_dataset, batch_size=32, shuffle=False, num_workers=8)\n",
    "\n",
    "# Create dataset and dataloader for the test data (no shuffle)\n",
    "test_dataset = QUMIA_Dataset(df_test, transform=evaluation_transform, data_dir=data_dir_images, fuse_features=fuse_features)\n",
    "test_subset = Subset(test_dataset, range(30))\n",
    "test_loader = DataLoader(test_subset if use_subset else test_dataset, batch_size=32, shuffle=False, num_workers=8)"
   ]
  },
  {
   "cell_type": "code",
   "execution_count": 13,
   "metadata": {},
   "outputs": [],
   "source": [
    "def visualize_augmentations(dataset, idx=0, samples=10, cols=5):\n",
    "    dataset = copy.deepcopy(dataset)\n",
    "    dataset.transform = A.Compose([t for t in dataset.transform if not isinstance(t, (A.Normalize, ToTensorV2))])\n",
    "    rows = samples // cols\n",
    "    figure, ax = plt.subplots(nrows=rows, ncols=cols, figsize=(12, 6))\n",
    "    for i in range(samples):\n",
    "        image, _ = dataset[idx+100]\n",
    "        ax.ravel()[i].imshow(image, cmap='gray')\n",
    "        ax.ravel()[i].set_axis_off()\n",
    "    plt.tight_layout()\n",
    "    plt.show()\n",
    "\n",
    "#visualize_augmentations(train_dataset)"
   ]
  },
  {
   "cell_type": "code",
   "execution_count": 16,
   "metadata": {},
   "outputs": [],
   "source": [
    "def create_model():\n",
    "    model = QUMIA_Model(config[\"image_channels\"], image_size, config[\"model_layers\"], \n",
    "                        config[\"model_first_out_channels\"], config[\"model_fully_connected_size\"],\n",
    "                        len(fuse_features))\n",
    "    model.to(device)\n",
    "    return model"
   ]
  },
  {
   "cell_type": "code",
   "execution_count": 17,
   "metadata": {},
   "outputs": [],
   "source": [
    "# Instantiate and prepare model\n",
    "model = create_model()\n",
    "\n",
    "# Print a summary of the model\n",
    "# with feature fusion:\n",
    "# summary(model, input_data=[(1, image_channels, image_size, image_size), (1, 2)], device=device.type)\n",
    "\n",
    "#summary(model, (image_channels, image_size, image_size), device=device.type)\n"
   ]
  },
  {
   "cell_type": "code",
   "execution_count": 18,
   "metadata": {},
   "outputs": [],
   "source": [
    "# Loss function\n",
    "#criterion = torch.nn.MSELoss()\n",
    "\n",
    "total_count = df_train.shape[0]\n",
    "h_score_counts = df_train['h_score'].value_counts()\n",
    "weights = [total_count / h_score_counts[i] for i in range(1, 5)]\n",
    "w_sum = sum(weights)\n",
    "class_weights = torch.tensor([w / w_sum for w in weights])\n",
    "class_weights = class_weights.to(device)\n",
    "\n",
    "def weighted_mse_loss(input, target):\n",
    "    assert input.shape == target.shape, \"Input and target must have the same shape\"\n",
    "\n",
    "    # Assign weights based on the target class\n",
    "    # This assumes targets are 1.0, 2.0, 3.0, and 4.0 for the classes\n",
    "    sample_weights = class_weights[target.long() - 1]\n",
    "\n",
    "    # Calculate MSE loss for each sample\n",
    "    mse = torch.nn.functional.mse_loss(input, target, reduction='none')\n",
    "\n",
    "    # Weight the MSE loss by the sample weights\n",
    "    weighted_mse = mse * sample_weights\n",
    "\n",
    "    # Return the mean loss\n",
    "    return weighted_mse.mean()\n",
    "\n",
    "criterion = weighted_mse_loss"
   ]
  },
  {
   "cell_type": "code",
   "execution_count": 19,
   "metadata": {},
   "outputs": [],
   "source": [
    "# Optimizer\n",
    "optimizer = optim.Adam(model.parameters(), lr=config[\"learning_rate\"])"
   ]
  },
  {
   "cell_type": "code",
   "execution_count": 20,
   "metadata": {},
   "outputs": [],
   "source": [
    "# Create a trainer that holds all the objects\n",
    "trainer = QUMIA_Trainer(df_train, df_val, df_test, train_loader, validation_loader, test_loader,\n",
    "                        device, model, criterion, optimizer, output_dir)"
   ]
  },
  {
   "cell_type": "code",
   "execution_count": 21,
   "metadata": {
    "tags": [
     "exclude"
    ]
   },
   "outputs": [],
   "source": [
    "# Just for debugging in notebook ('exclude' tag will exclude it from script version)\n",
    "train(1, trainer)"
   ]
  },
  {
   "cell_type": "code",
   "execution_count": 39,
   "metadata": {
    "tags": [
     "exclude"
    ]
   },
   "outputs": [],
   "source": [
    "# Example of performing inference on one batch of images ('exclude' tag will exclude it from script version)\n",
    "model = create_model()\n",
    "model.load_state_dict(torch.load('/projects/0/einf6214/output/2023-12-13_12-32-03_baseline-3/output/final_model.pth', map_location=device))\n",
    "df_combined = validate(trainer, 1, set_type=\"validation\")"
   ]
  },
  {
   "cell_type": "code",
   "execution_count": 10,
   "metadata": {},
   "outputs": [],
   "source": [
    "def main():\n",
    "    if len(sys.argv) != 2:\n",
    "        print(\"Usage: python train.py {train|validate}\")\n",
    "        exit(1)\n",
    "\n",
    "    command = sys.argv[1]\n",
    "    if (command == \"train\"):\n",
    "        train(config[\"epochs\"], trainer)\n",
    "    elif (command == \"validate\"):\n",
    "        validate(trainer, set_type=\"validation\")\n",
    "\n",
    "# Check if we are running as a script and not in a notebook\n",
    "if is_running_as_script():\n",
    "    main()"
   ]
  }
 ],
 "metadata": {
  "kernelspec": {
   "display_name": "Python 3",
   "language": "python",
   "name": "python3"
  },
  "language_info": {
   "codemirror_mode": {
    "name": "ipython",
    "version": 3
   },
   "file_extension": ".py",
   "mimetype": "text/x-python",
   "name": "python",
   "nbconvert_exporter": "python",
   "pygments_lexer": "ipython3",
   "version": "3.9.18"
  }
 },
 "nbformat": 4,
 "nbformat_minor": 2
}
